{
 "cells": [
  {
   "cell_type": "code",
   "execution_count": null,
   "metadata": {},
   "outputs": [],
   "source": [
    "import pandas as pd\n",
    "\n",
    "import matplotlib.pyplot as plt\n",
    "import matplotlib.animation as animation\n",
    "\n",
    "# Load the dataframe\n",
    "rg_and_anisotropy_production_dataframe = pd.read_pickle('rg_and_anisotropy_production.pkl')\n",
    "\n",
    "# Print the first item in the \"pairwise_distances\" column\n",
    "first_item = rg_and_anisotropy_production_dataframe[\"pdist_evecs\"].iloc[0]\n",
    "print(first_item)\n",
    "\n",
    "# Render a movie from the first item\n",
    "fig, ax = plt.subplots()\n",
    "\n",
    "def update(frame):\n",
    "    ax.clear()\n",
    "    ax.imshow(first_item[frame])\n",
    "\n",
    "ani = animation.FuncAnimation(fig, update, frames=range(first_item.shape[0]), repeat=False)\n",
    "plt.show()"
   ]
  }
 ],
 "metadata": {
  "kernelspec": {
   "display_name": "matthew",
   "language": "python",
   "name": "python3"
  },
  "language_info": {
   "name": "python",
   "version": "3.10.14"
  }
 },
 "nbformat": 4,
 "nbformat_minor": 2
}
